{
 "cells": [
  {
   "cell_type": "markdown",
   "metadata": {},
   "source": [
    "# Convolution Neural Networks"
   ]
  },
  {
   "cell_type": "code",
   "execution_count": 3,
   "metadata": {},
   "outputs": [],
   "source": [
    "import torch\n",
    "import torch.nn as nn\n",
    "import torch.optim as optim\n",
    "import torch.nn.functional as F\n",
    "from torchvision import datasets, transforms\n",
    "from torch.utils.data import DataLoader\n",
    "\n",
    "import matplotlib.pyplot as plt\n",
    "import numpy as np"
   ]
  },
  {
   "cell_type": "markdown",
   "metadata": {},
   "source": [
    "## Simple CNN Structure in MNIST"
   ]
  },
  {
   "cell_type": "code",
   "execution_count": 4,
   "metadata": {},
   "outputs": [
    {
     "name": "stdout",
     "output_type": "stream",
     "text": [
      "Using device: cuda\n"
     ]
    }
   ],
   "source": [
    "# Device\n",
    "device = torch.device(\"cuda\" if torch.cuda.is_available() else \"cpu\")\n",
    "print(f\"Using device: {device}\")\n",
    "\n",
    "# Hyper-parameters\n",
    "input_size = 1     #Gray-scale images\n",
    "classes    = 10\n",
    "lr         = 0.001\n",
    "batch_size = 128\n",
    "epochs     = 5"
   ]
  },
  {
   "cell_type": "markdown",
   "metadata": {},
   "source": [
    "**Data Preprocessing**"
   ]
  },
  {
   "cell_type": "code",
   "execution_count": 6,
   "metadata": {},
   "outputs": [
    {
     "name": "stderr",
     "output_type": "stream",
     "text": [
      "100.0%\n",
      "100.0%\n",
      "100.0%\n",
      "100.0%\n"
     ]
    }
   ],
   "source": [
    "transform = transforms.Compose([\n",
    "\ttransforms.ToTensor(),\n",
    "\ttransforms.Normalize((0.1307, ), (0.3081, )) #Mean and Std of MNIST \n",
    "])\n",
    "\n",
    "train_dataset = datasets.MNIST(root = \"./data\", train = True, download = True, transform = transform)\n",
    "test_dataset  = datasets.MNIST(root = \"./data\", train = False, download = True, transform = transform)\n",
    "\n",
    "train_loader = DataLoader(dataset = train_dataset, batch_size = batch_size, shuffle = True)\n",
    "test_loader  = DataLoader(dataset = test_dataset, batch_size = batch_size, shuffle = False)"
   ]
  },
  {
   "cell_type": "markdown",
   "metadata": {},
   "source": [
    "**CNN Structure**"
   ]
  },
  {
   "cell_type": "code",
   "execution_count": 7,
   "metadata": {},
   "outputs": [],
   "source": [
    "class SimpleCNN(nn.Module):\n",
    "\tdef __init__(self, inplanes = 1, num_classes = 10):\n",
    "\t\tsuper(SimpleCNN, self).__init__()\n",
    "\t\t# Input 1 x 28 x 28\n",
    "\t\t# CONV1:\n",
    "\t\tself.conv1 = nn.Conv2d(in_channels = inplanes, out_channels = 32, kernel_size = 3, stride = 1, padding = 1)\n",
    "\t\tself.pool1 = nn.MaxPool2d(kernel_size = 2, stride = 2)\n",
    "\t\t\t#Output: 32 x 14 x 14\n",
    "\t\t# CONV2:\n",
    "\t\tself.conv2 = nn.Conv2d(in_channels = 32, out_channels = 64, kernel_size = 3, stride = 1, padding = 1)\n",
    "\t\tself.pool2 = nn.MaxPool2d(kernel_size = 2, stride = 2)\n",
    "\t\t\t#Output: 64 x 7 x 7\n",
    "\t\t#Flatten & Dense\n",
    "\t\tself.fc1 = nn.Linear(64 * 7 * 7, 128)\n",
    "\t\tself.fc2 = nn.Linear(128, num_classes)\n",
    "\t\t\n",
    "\tdef forward(self, x):\n",
    "\t\t#Conv1\n",
    "\t\tx = self.conv1(x)\n",
    "\t\tx = F.relu(x)\n",
    "\t\tx = self.pool1(x)\n",
    "\t\t#Conv2\n",
    "\t\tx = self.pool2(F.relu(self.conv2(x)))\n",
    "\t\t#Flatten\n",
    "\t\tx = x.view(x.size(0), -1)\n",
    "\t\t#Dense\n",
    "\t\tx = self.fc1(x)\n",
    "\t\tx = F.relu(x)\n",
    "\t\tx = self.fc2(x)\n",
    "\t\t\n",
    "\t\treturn x"
   ]
  },
  {
   "cell_type": "markdown",
   "metadata": {},
   "source": [
    "**Training**"
   ]
  },
  {
   "cell_type": "code",
   "execution_count": 9,
   "metadata": {},
   "outputs": [
    {
     "name": "stdout",
     "output_type": "stream",
     "text": [
      "SimpleCNN(\n",
      "  (conv1): Conv2d(1, 32, kernel_size=(3, 3), stride=(1, 1), padding=(1, 1))\n",
      "  (pool1): MaxPool2d(kernel_size=2, stride=2, padding=0, dilation=1, ceil_mode=False)\n",
      "  (conv2): Conv2d(32, 64, kernel_size=(3, 3), stride=(1, 1), padding=(1, 1))\n",
      "  (pool2): MaxPool2d(kernel_size=2, stride=2, padding=0, dilation=1, ceil_mode=False)\n",
      "  (fc1): Linear(in_features=3136, out_features=128, bias=True)\n",
      "  (fc2): Linear(in_features=128, out_features=10, bias=True)\n",
      ")\n",
      "Epoch [1/5], Step [100/469], Loss: 0.1837\n",
      "Epoch [1/5], Step [200/469], Loss: 0.0833\n",
      "Epoch [1/5], Step [300/469], Loss: 0.0373\n",
      "Epoch [1/5], Step [400/469], Loss: 0.0615\n",
      "--- Epoch 1 Finished, Average Loss: 0.1792 ---\n",
      "Epoch [2/5], Step [100/469], Loss: 0.1020\n",
      "Epoch [2/5], Step [200/469], Loss: 0.0489\n",
      "Epoch [2/5], Step [300/469], Loss: 0.0163\n",
      "Epoch [2/5], Step [400/469], Loss: 0.0170\n",
      "--- Epoch 2 Finished, Average Loss: 0.0470 ---\n",
      "Epoch [3/5], Step [100/469], Loss: 0.0159\n",
      "Epoch [3/5], Step [200/469], Loss: 0.0264\n",
      "Epoch [3/5], Step [300/469], Loss: 0.0212\n",
      "Epoch [3/5], Step [400/469], Loss: 0.0202\n",
      "--- Epoch 3 Finished, Average Loss: 0.0326 ---\n",
      "Epoch [4/5], Step [100/469], Loss: 0.0060\n",
      "Epoch [4/5], Step [200/469], Loss: 0.0055\n",
      "Epoch [4/5], Step [300/469], Loss: 0.0327\n",
      "Epoch [4/5], Step [400/469], Loss: 0.0175\n",
      "--- Epoch 4 Finished, Average Loss: 0.0226 ---\n",
      "Epoch [5/5], Step [100/469], Loss: 0.0051\n",
      "Epoch [5/5], Step [200/469], Loss: 0.0265\n",
      "Epoch [5/5], Step [300/469], Loss: 0.0236\n",
      "Epoch [5/5], Step [400/469], Loss: 0.0578\n",
      "--- Epoch 5 Finished, Average Loss: 0.0173 ---\n"
     ]
    }
   ],
   "source": [
    "# Init\n",
    "model = SimpleCNN(inplanes = input_size, num_classes = classes).to(device)\n",
    "print(model)\n",
    "\n",
    "# Loss function and Optimizer\n",
    "criterion = nn.CrossEntropyLoss() # Softmax Included\n",
    "optimizer = optim.Adam(model.parameters(), lr = lr)\n",
    "\n",
    "# Training\n",
    "for epoch in range(epochs):\n",
    "    #Training mode\n",
    "    model.train()\n",
    "    running_loss = 0.0\n",
    "    for batch_idx, (data, targets) in enumerate(train_loader):\n",
    "        data    = data.to(device)\n",
    "        targets = targets.to(device)\n",
    "        \n",
    "        # Forward pass\n",
    "        outputs = model(data)\n",
    "        loss = criterion(outputs, targets)\n",
    "        running_loss += loss.item()\n",
    "\t\t\n",
    "        # Backward pass and Criterion\n",
    "        optimizer.zero_grad()\n",
    "        loss.backward()       #Gradient\n",
    "        optimizer.step()      #Update weights\n",
    "\t\t\n",
    "        if (batch_idx + 1) % 100 == 0:\n",
    "            print(f'Epoch [{epoch+1}/{epochs}], Step [{batch_idx+1}/{len(train_loader)}], Loss: {loss.item():.4f}')\n",
    "\t\t\n",
    "    print(f'--- Epoch {epoch+1} Finished, Average Loss: {running_loss/len(train_loader):.4f} ---')"
   ]
  },
  {
   "cell_type": "markdown",
   "metadata": {},
   "source": [
    "**Evaluation**"
   ]
  },
  {
   "cell_type": "code",
   "execution_count": 10,
   "metadata": {},
   "outputs": [
    {
     "name": "stdout",
     "output_type": "stream",
     "text": [
      "Test Loss: 0.0317\n",
      "Test Accuracy: 98.95%\n"
     ]
    }
   ],
   "source": [
    "# Evaluation mode\n",
    "model.eval()\n",
    "test_loss = 0\n",
    "correct   = 0\n",
    "total     = 0\n",
    "\n",
    "with torch.no_grad():\n",
    "    for data, targets in test_loader:\n",
    "        data    = data.to(device)\n",
    "        targets = targets.to(device)\n",
    "        outputs = model(data)\n",
    "\t\t\n",
    "        loss = criterion(outputs, targets)\n",
    "        test_loss += loss.item()\n",
    "\t\t\n",
    "        _, predicted = torch.max(outputs.data, 1)\n",
    "        total   += targets.size(0)\n",
    "        correct += (predicted == targets).sum().item()\n",
    "\n",
    "test_loss /= len(test_loader)\n",
    "accuracy   = correct / total * 100.0\n",
    "print(f'Test Loss: {test_loss:.4f}')\n",
    "print(f'Test Accuracy: {accuracy:.2f}%')"
   ]
  },
  {
   "cell_type": "markdown",
   "metadata": {},
   "source": [
    "**Test**"
   ]
  },
  {
   "cell_type": "code",
   "execution_count": 11,
   "metadata": {},
   "outputs": [
    {
     "data": {
      "image/png": "[encoded data removed]",
      "text/plain": [
       "<Figure size 1000x300 with 5 Axes>"
      ]
     },
     "metadata": {},
     "output_type": "display_data"
    }
   ],
   "source": [
    "model.eval()\n",
    "with torch.no_grad():\n",
    "    data, targets = next(iter(test_loader))\n",
    "    data = data.to(device)\n",
    "    outputs = model(data)\n",
    "    _, predicted_labels = torch.max(outputs.data, 1)\n",
    "\t\n",
    "    # CPU\n",
    "    data_cpu = data.cpu()\n",
    "    targets_cpu = targets.cpu()\n",
    "    predicted_labels_cpu = predicted_labels.cpu()\n",
    "\t\n",
    "    # Visualization function\n",
    "    def imshow(img):\n",
    "        img   = img * 0.3081 + 0.1307 # Un-normalize: img * std + mean\n",
    "        npimg = img.numpy()\n",
    "        plt.imshow(np.transpose(npimg, (1, 2, 0)).squeeze(), cmap='gray') # Bỏ chiều kênh nếu là ảnh xám\n",
    "        plt.axis('off')\n",
    "\t\t\n",
    "    # Visulize\n",
    "    num_images_to_show = 5\n",
    "    plt.figure(figsize=(10, 3))\n",
    "    for i in range(num_images_to_show):\n",
    "        plt.subplot(1, num_images_to_show, i+1)\n",
    "        imshow(data_cpu[i])\n",
    "        plt.title(f\"Pred: {predicted_labels_cpu[i].item()}\\nTrue: {targets_cpu[i].item()}\")\n",
    "    plt.tight_layout()\n",
    "    plt.show()"
   ]
  },
  {
   "cell_type": "markdown",
   "metadata": {},
   "source": [
    "****"
   ]
  }
 ],
 "metadata": {
  "kernelspec": {
   "display_name": "vscode",
   "language": "python",
   "name": "python3"
  },
  "language_info": {
   "codemirror_mode": {
    "name": "ipython",
    "version": 3
   },
   "file_extension": ".py",
   "mimetype": "text/x-python",
   "name": "python",
   "nbconvert_exporter": "python",
   "pygments_lexer": "ipython3",
   "version": "3.11.11"
  }
 },
 "nbformat": 4,
 "nbformat_minor": 2
}

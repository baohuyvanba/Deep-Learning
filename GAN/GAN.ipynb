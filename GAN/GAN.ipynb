{
 "cells": [
  {
   "cell_type": "markdown",
   "metadata": {},
   "source": [
    "# Generative Adversarial Nets (GAN)"
   ]
  },
  {
   "cell_type": "markdown",
   "metadata": {},
   "source": [
    "## 1. Setup"
   ]
  },
  {
   "cell_type": "code",
   "execution_count": 1,
   "metadata": {},
   "outputs": [],
   "source": [
    "import torch\n",
    "import torch.nn as nn\n",
    "import torch.optim as optim\n",
    "import torchvision\n",
    "import torchvision.transforms as transforms\n",
    "from torchvision.utils import make_grid, save_image\n",
    "import matplotlib.pyplot as plt\n",
    "import os"
   ]
  },
  {
   "cell_type": "code",
   "execution_count": 2,
   "metadata": {},
   "outputs": [
    {
     "data": {
      "text/plain": [
       "device(type='cuda')"
      ]
     },
     "execution_count": 2,
     "metadata": {},
     "output_type": "execute_result"
    }
   ],
   "source": [
    "batch_size = 128\n",
    "device = torch.device(\"cuda\" if torch.cuda.is_available() else \"cpu\")\n",
    "device"
   ]
  },
  {
   "cell_type": "code",
   "execution_count": 3,
   "metadata": {},
   "outputs": [],
   "source": [
    "#MNIST dataset\n",
    "transform = transforms.Compose([\n",
    "    transforms.ToTensor(),\n",
    "    transforms.Normalize([0.5], [0.5])  #Normalize to [-1, 1]\n",
    "])\n",
    "train_dataset = torchvision.datasets.MNIST(root = './data', train = True, download = True, transform = transform)\n",
    "train_loader = torch.utils.data.DataLoader(dataset = train_dataset, batch_size = batch_size, shuffle = True)"
   ]
  },
  {
   "cell_type": "code",
   "execution_count": 4,
   "metadata": {},
   "outputs": [
    {
     "data": {
      "image/png": "[encoded data removed]",
      "text/plain": [
       "<Figure size 600x600 with 1 Axes>"
      ]
     },
     "metadata": {},
     "output_type": "display_data"
    }
   ],
   "source": [
    "data_iter = iter(train_loader)\n",
    "real_images, _ = next(data_iter)\n",
    "grid_img = make_grid(real_images[:25], nrow = 5, normalize = True)\n",
    "plt.figure(figsize = (6,6))\n",
    "plt.imshow(grid_img.permute(1, 2, 0).cpu().numpy())\n",
    "plt.title(\"MNIST Images\")\n",
    "plt.axis(\"off\")\n",
    "plt.show()"
   ]
  },
  {
   "cell_type": "markdown",
   "metadata": {},
   "source": [
    "## 2. GAN Structure"
   ]
  },
  {
   "cell_type": "markdown",
   "metadata": {},
   "source": [
    "### 2.1 Generator\n",
    "- Nhận đầu vào là vector nhiễu (latent vector) và thông qua các lớp Fully Connected với hàm kích hoạt ReLU,\n",
    "- Cuối cùng dùng hàm Tanh để sinh ra ảnh (kích thước 28×28)."
   ]
  },
  {
   "cell_type": "code",
   "execution_count": 5,
   "metadata": {},
   "outputs": [],
   "source": [
    "class Generator(nn.Module):\n",
    "    def __init__(self, latent_dim):\n",
    "        super(Generator, self).__init__()\n",
    "        self.model = nn.Sequential(\n",
    "            nn.Linear(latent_dim, 256),\n",
    "            nn.ReLU(True),\n",
    "            nn.Linear(256, 512),\n",
    "            nn.ReLU(True),\n",
    "            nn.Linear(512, 1024),\n",
    "            nn.ReLU(True),\n",
    "            nn.Linear(1024, 28*28),\n",
    "            nn.Tanh()    #Output values in the range [-1, 1]\n",
    "        )\n",
    "        \n",
    "    def forward(self, z):\n",
    "        img = self.model(z)\n",
    "        img = img.view(z.size(0), 1, 28, 28)\n",
    "        return img"
   ]
  },
  {
   "cell_type": "markdown",
   "metadata": {},
   "source": [
    "### 2.2 Discriminator\n",
    "- Nhận ảnh (được flatten thành vector) và thông qua các lớp Fully Connected với hàm LeakyReLU,\n",
    "- Cuối cùng sử dụng Sigmoid để cho ra xác suất ảnh là thật hay giả."
   ]
  },
  {
   "cell_type": "code",
   "execution_count": 6,
   "metadata": {},
   "outputs": [],
   "source": [
    "class Discriminator(nn.Module):\n",
    "    def __init__(self):\n",
    "        super(Discriminator, self).__init__()\n",
    "        self.model = nn.Sequential(\n",
    "            nn.Linear(28*28, 1024),\n",
    "            nn.LeakyReLU(0.2, inplace=True),\n",
    "            nn.Linear(1024, 512),\n",
    "            nn.LeakyReLU(0.2, inplace=True),\n",
    "            nn.Linear(512, 256),\n",
    "            nn.LeakyReLU(0.2, inplace=True),\n",
    "            nn.Linear(256, 1),\n",
    "            nn.Sigmoid() #Output a probability\n",
    "        )\n",
    "        \n",
    "    def forward(self, img):\n",
    "        img_flat = img.view(img.size(0), -1)\n",
    "        validity = self.model(img_flat)\n",
    "        return validity"
   ]
  },
  {
   "cell_type": "markdown",
   "metadata": {},
   "source": [
    "## 3. Training"
   ]
  },
  {
   "cell_type": "code",
   "execution_count": 7,
   "metadata": {},
   "outputs": [],
   "source": [
    "lr = 0.0002\n",
    "num_epochs = 20\n",
    "latent_dim = 100"
   ]
  },
  {
   "cell_type": "code",
   "execution_count": 8,
   "metadata": {},
   "outputs": [],
   "source": [
    "os.makedirs(\"gan_images\", exist_ok=True)\n",
    "\n",
    "generator     = Generator(latent_dim).to(device)\n",
    "discriminator = Discriminator().to(device)"
   ]
  },
  {
   "cell_type": "code",
   "execution_count": 9,
   "metadata": {},
   "outputs": [],
   "source": [
    "#Hyper-parameters\n",
    "adversarial_loss = nn.BCELoss()\n",
    "optimizer_G = optim.Adam(generator.parameters(), lr = lr, betas = (0.5, 0.999))\n",
    "optimizer_D = optim.Adam(discriminator.parameters(), lr = lr, betas = (0.5, 0.999))"
   ]
  },
  {
   "cell_type": "code",
   "execution_count": 10,
   "metadata": {},
   "outputs": [
    {
     "name": "stdout",
     "output_type": "stream",
     "text": [
      "Epoch 10/20 [Batch 0/469] [D loss: 1.3219] [G loss: 7.5257]\n",
      "Epoch 10/20 [Batch 10/469] [D loss: 0.1311] [G loss: 2.0253]\n",
      "Epoch 10/20 [Batch 20/469] [D loss: 0.0931] [G loss: 2.5875]\n",
      "Epoch 10/20 [Batch 30/469] [D loss: 0.1730] [G loss: 1.4528]\n",
      "Epoch 10/20 [Batch 40/469] [D loss: 0.0730] [G loss: 2.6594]\n",
      "Epoch 10/20 [Batch 50/469] [D loss: 0.0494] [G loss: 3.0645]\n",
      "Epoch 10/20 [Batch 60/469] [D loss: 0.0363] [G loss: 3.4932]\n",
      "Epoch 10/20 [Batch 70/469] [D loss: 0.0484] [G loss: 2.5340]\n",
      "Epoch 10/20 [Batch 80/469] [D loss: 0.1383] [G loss: 3.2307]\n",
      "Epoch 10/20 [Batch 90/469] [D loss: 0.0606] [G loss: 3.2913]\n",
      "Epoch 10/20 [Batch 100/469] [D loss: 0.1895] [G loss: 5.6540]\n",
      "Epoch 10/20 [Batch 110/469] [D loss: 0.1155] [G loss: 2.5424]\n",
      "Epoch 10/20 [Batch 120/469] [D loss: 0.1209] [G loss: 3.1570]\n",
      "Epoch 10/20 [Batch 130/469] [D loss: 0.1465] [G loss: 6.7956]\n",
      "Epoch 10/20 [Batch 140/469] [D loss: 0.0891] [G loss: 2.5036]\n",
      "Epoch 10/20 [Batch 150/469] [D loss: 0.0220] [G loss: 3.6319]\n",
      "Epoch 10/20 [Batch 160/469] [D loss: 0.1033] [G loss: 2.6271]\n",
      "Epoch 10/20 [Batch 170/469] [D loss: 0.0853] [G loss: 2.4193]\n",
      "Epoch 10/20 [Batch 180/469] [D loss: 0.1276] [G loss: 3.1585]\n",
      "Epoch 10/20 [Batch 190/469] [D loss: 0.1032] [G loss: 2.6523]\n",
      "Epoch 10/20 [Batch 200/469] [D loss: 0.1413] [G loss: 5.5478]\n",
      "Epoch 10/20 [Batch 210/469] [D loss: 0.0895] [G loss: 2.4446]\n",
      "Epoch 10/20 [Batch 220/469] [D loss: 0.5512] [G loss: 0.9679]\n",
      "Epoch 10/20 [Batch 230/469] [D loss: 0.0442] [G loss: 3.1752]\n",
      "Epoch 10/20 [Batch 240/469] [D loss: 0.0857] [G loss: 2.4050]\n",
      "Epoch 10/20 [Batch 250/469] [D loss: 0.0925] [G loss: 2.5396]\n",
      "Epoch 10/20 [Batch 260/469] [D loss: 0.1182] [G loss: 3.3522]\n",
      "Epoch 10/20 [Batch 270/469] [D loss: 0.1722] [G loss: 2.0416]\n",
      "Epoch 10/20 [Batch 280/469] [D loss: 0.1271] [G loss: 1.7674]\n",
      "Epoch 10/20 [Batch 290/469] [D loss: 0.1017] [G loss: 2.6254]\n",
      "Epoch 10/20 [Batch 300/469] [D loss: 0.0950] [G loss: 2.5580]\n",
      "Epoch 10/20 [Batch 310/469] [D loss: 0.0867] [G loss: 2.1722]\n",
      "Epoch 10/20 [Batch 320/469] [D loss: 0.2934] [G loss: 1.9662]\n",
      "Epoch 10/20 [Batch 330/469] [D loss: 0.1295] [G loss: 2.7191]\n",
      "Epoch 10/20 [Batch 340/469] [D loss: 0.0934] [G loss: 4.2321]\n",
      "Epoch 10/20 [Batch 350/469] [D loss: 0.2790] [G loss: 4.4196]\n",
      "Epoch 10/20 [Batch 360/469] [D loss: 0.0897] [G loss: 2.1625]\n",
      "Epoch 10/20 [Batch 370/469] [D loss: 0.0954] [G loss: 2.2494]\n",
      "Epoch 10/20 [Batch 380/469] [D loss: 0.0719] [G loss: 2.3080]\n",
      "Epoch 10/20 [Batch 390/469] [D loss: 0.1014] [G loss: 2.6616]\n",
      "Epoch 10/20 [Batch 400/469] [D loss: 0.1177] [G loss: 3.0719]\n",
      "Epoch 10/20 [Batch 410/469] [D loss: 0.0734] [G loss: 3.2148]\n",
      "Epoch 10/20 [Batch 420/469] [D loss: 0.0462] [G loss: 3.9066]\n",
      "Epoch 10/20 [Batch 430/469] [D loss: 0.0326] [G loss: 3.0052]\n",
      "Epoch 10/20 [Batch 440/469] [D loss: 0.0550] [G loss: 3.0318]\n",
      "Epoch 10/20 [Batch 450/469] [D loss: 0.0414] [G loss: 2.8410]\n",
      "Epoch 10/20 [Batch 460/469] [D loss: 0.1597] [G loss: 1.9615]\n",
      "Epoch 20/20 [Batch 0/469] [D loss: 0.1915] [G loss: 1.8420]\n",
      "Epoch 20/20 [Batch 10/469] [D loss: 0.2065] [G loss: 1.7080]\n",
      "Epoch 20/20 [Batch 20/469] [D loss: 0.5872] [G loss: 4.6336]\n",
      "Epoch 20/20 [Batch 30/469] [D loss: 0.2810] [G loss: 1.9323]\n",
      "Epoch 20/20 [Batch 40/469] [D loss: 0.2637] [G loss: 2.4297]\n",
      "Epoch 20/20 [Batch 50/469] [D loss: 0.1958] [G loss: 1.7731]\n",
      "Epoch 20/20 [Batch 60/469] [D loss: 0.2787] [G loss: 1.5992]\n",
      "Epoch 20/20 [Batch 70/469] [D loss: 0.2811] [G loss: 1.6937]\n",
      "Epoch 20/20 [Batch 80/469] [D loss: 0.1908] [G loss: 2.7569]\n",
      "Epoch 20/20 [Batch 90/469] [D loss: 0.1747] [G loss: 2.1964]\n",
      "Epoch 20/20 [Batch 100/469] [D loss: 0.2831] [G loss: 2.0531]\n",
      "Epoch 20/20 [Batch 110/469] [D loss: 0.2133] [G loss: 1.9448]\n",
      "Epoch 20/20 [Batch 120/469] [D loss: 0.1894] [G loss: 1.9635]\n",
      "Epoch 20/20 [Batch 130/469] [D loss: 0.2244] [G loss: 2.3099]\n",
      "Epoch 20/20 [Batch 140/469] [D loss: 0.1756] [G loss: 2.0176]\n",
      "Epoch 20/20 [Batch 150/469] [D loss: 0.2291] [G loss: 2.4570]\n",
      "Epoch 20/20 [Batch 160/469] [D loss: 0.1837] [G loss: 1.5908]\n",
      "Epoch 20/20 [Batch 170/469] [D loss: 0.2740] [G loss: 1.2851]\n",
      "Epoch 20/20 [Batch 180/469] [D loss: 0.2318] [G loss: 1.8673]\n",
      "Epoch 20/20 [Batch 190/469] [D loss: 0.1612] [G loss: 2.5374]\n",
      "Epoch 20/20 [Batch 200/469] [D loss: 0.2114] [G loss: 2.3560]\n",
      "Epoch 20/20 [Batch 210/469] [D loss: 0.2036] [G loss: 2.2042]\n",
      "Epoch 20/20 [Batch 220/469] [D loss: 0.2054] [G loss: 2.1962]\n",
      "Epoch 20/20 [Batch 230/469] [D loss: 0.2007] [G loss: 2.4846]\n",
      "Epoch 20/20 [Batch 240/469] [D loss: 0.1306] [G loss: 2.4002]\n",
      "Epoch 20/20 [Batch 250/469] [D loss: 1.9336] [G loss: 6.4017]\n",
      "Epoch 20/20 [Batch 260/469] [D loss: 0.2335] [G loss: 1.4672]\n",
      "Epoch 20/20 [Batch 270/469] [D loss: 0.2573] [G loss: 1.8402]\n",
      "Epoch 20/20 [Batch 280/469] [D loss: 0.2884] [G loss: 2.2682]\n",
      "Epoch 20/20 [Batch 290/469] [D loss: 0.2324] [G loss: 1.6246]\n",
      "Epoch 20/20 [Batch 300/469] [D loss: 0.4879] [G loss: 0.8452]\n",
      "Epoch 20/20 [Batch 310/469] [D loss: 0.2059] [G loss: 1.6719]\n",
      "Epoch 20/20 [Batch 320/469] [D loss: 1.0984] [G loss: 4.5024]\n",
      "Epoch 20/20 [Batch 330/469] [D loss: 0.2534] [G loss: 1.7230]\n",
      "Epoch 20/20 [Batch 340/469] [D loss: 0.3463] [G loss: 3.0708]\n",
      "Epoch 20/20 [Batch 350/469] [D loss: 0.2063] [G loss: 2.2501]\n",
      "Epoch 20/20 [Batch 360/469] [D loss: 0.3991] [G loss: 3.5247]\n",
      "Epoch 20/20 [Batch 370/469] [D loss: 0.4065] [G loss: 2.9352]\n",
      "Epoch 20/20 [Batch 380/469] [D loss: 0.2191] [G loss: 2.0028]\n",
      "Epoch 20/20 [Batch 390/469] [D loss: 0.2794] [G loss: 1.4024]\n",
      "Epoch 20/20 [Batch 400/469] [D loss: 0.2643] [G loss: 2.4927]\n",
      "Epoch 20/20 [Batch 410/469] [D loss: 0.1894] [G loss: 2.2516]\n",
      "Epoch 20/20 [Batch 420/469] [D loss: 0.2230] [G loss: 1.9812]\n",
      "Epoch 20/20 [Batch 430/469] [D loss: 0.1705] [G loss: 2.0571]\n",
      "Epoch 20/20 [Batch 440/469] [D loss: 0.2319] [G loss: 2.4462]\n",
      "Epoch 20/20 [Batch 450/469] [D loss: 0.5294] [G loss: 0.7839]\n",
      "Epoch 20/20 [Batch 460/469] [D loss: 0.2255] [G loss: 1.8124]\n"
     ]
    }
   ],
   "source": [
    "for epoch in range(num_epochs):\n",
    "    for i, (imgs, _) in enumerate(train_loader):\n",
    "        batch_size_curr = imgs.size(0)\n",
    "        #Labeling\n",
    "        valid = torch.ones(batch_size_curr, 1, device = device)\n",
    "        fake  = torch.zeros(batch_size_curr, 1, device = device)\n",
    "\n",
    "        real  = imgs.to(device)\n",
    "\n",
    "        #========================#\n",
    "        # GENERATOR TRAINING\n",
    "        #========================#\n",
    "        optimizer_G.zero_grad()\n",
    "        #Create input (random noise)\n",
    "        z = torch.randn(batch_size_curr, latent_dim, device = device)\n",
    "        #Generator: z -> gen_img\n",
    "        gen_imgs = generator(z)\n",
    "        #Loss\n",
    "        g_loss = adversarial_loss(discriminator(gen_imgs), valid)\n",
    "        g_loss.backward()\n",
    "        optimizer_G.step()\n",
    "\n",
    "        #========================#\n",
    "        # DISCRIMINATOR TRAINING\n",
    "        #========================#\n",
    "        optimizer_D.zero_grad()\n",
    "        #Loss: real image\n",
    "        real_loss = adversarial_loss(discriminator(real), valid)\n",
    "        #Loss: fake image\n",
    "        fake_loss = adversarial_loss(discriminator(gen_imgs.detach()), fake)\n",
    "        #Discriminator loss\n",
    "        d_loss = (real_loss + fake_loss) / 2\n",
    "        d_loss.backward()\n",
    "        optimizer_D.step()\n",
    "\n",
    "        if ((epoch+1) % 10 == 0) and (i % 10 == 0):\n",
    "            print(f\"Epoch {epoch+1}/{num_epochs} [Batch {i}/{len(train_loader)}] \" +\n",
    "                  f\"[D loss: {d_loss.item():.4f}] [G loss: {g_loss.item():.4f}]\")\n",
    "        \n",
    "    with torch.no_grad():\n",
    "        fixed_noise = torch.randn(64, latent_dim, device = device)\n",
    "        fake_images = generator(fixed_noise)\n",
    "        grid = make_grid(fake_images, nrow = 8, normalize = True)\n",
    "        save_image(grid, f\"gan_images/epoch_{epoch+1}.png\")"
   ]
  },
  {
   "cell_type": "markdown",
   "metadata": {},
   "source": [
    "****"
   ]
  }
 ],
 "metadata": {
  "kernelspec": {
   "display_name": "base",
   "language": "python",
   "name": "python3"
  },
  "language_info": {
   "codemirror_mode": {
    "name": "ipython",
    "version": 3
   },
   "file_extension": ".py",
   "mimetype": "text/x-python",
   "name": "python",
   "nbconvert_exporter": "python",
   "pygments_lexer": "ipython3",
   "version": "3.12.7"
  }
 },
 "nbformat": 4,
 "nbformat_minor": 2
}

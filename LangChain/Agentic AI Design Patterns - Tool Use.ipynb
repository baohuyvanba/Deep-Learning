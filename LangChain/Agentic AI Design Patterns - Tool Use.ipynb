{
 "cells": [
  {
   "cell_type": "markdown",
   "metadata": {},
   "source": [
    "# Tool Use Pattern - Agentic AI Design Patterns 01"
   ]
  },
  {
   "cell_type": "markdown",
   "metadata": {},
   "source": [
    "## I. Mô hình Tool Use (Kết hợp công cụ)\n",
    "### 1. Overview\n",
    "- *Là cơ chế quan trọng cho phép mô hình AI tương tác với các hệ thống bên ngoài*, APIs, hoặc tài nguyên vượt qua khả năng bên trong của chính mô hình (tương tác thời gian thực, các công cụ đặc biệt).\n",
    "- Giải quyết hạn chế truyền thống của LLMs - thường bị giới hạn bởi dữ liệu huấn luyện.\n",
    "- Sử dụng kiến trúc mô-đun hóa, trong đó các nhiệm vụ được gán cho các công cụ chuyên dụng, nâng cao hiệu quả, tính linh hoạt và khả năng mở rộng.\n",
    "- Agentic AI có thể tự động lựa chọn, sử dụng và phối hợp nhiều công cụ để thực hiện các nhiệm vụ phức tạp mà không cần sự can thiệp liên tục của con người, thể hiện khả năng giải quyết vấn đề tiên tiến\n",
    "- LLàm nổi bật các tính năng chủ động chính như ra quyết định, khả năng thích ứng và khả năng học hỏi từ việc sử dụng công cụ, mở đường cho các hệ thống AI tự chủ và đa năng hơn.\n",
    "\n",
    "### 2. Tool Use Pattern in Agentic AI: An Overview\n",
    "- **Tool Use**: công nghệ mạnh mẽ, đại diện cho một khuôn mẫu thiết kế thay đổi cách mà LLMs thực thi.\n",
    "- Công nghệ cách mạng này cho phép LLMs vượt qua giới hạn tự nhiên bằng việc tương tác với các chức năng bên ngoài để thu thập thông tin, thực hiện hành động, và thao tác dữ liệu.\n",
    "\n",
    "- Giới hạn tự nhiên của LLMs:\n",
    "\t- Sự phát triển ban đầu của LLMs tập trung vào việc sử dụng các Transformer tiền huấn luyện để dự đoán token tiếp theo trong chuỗi.\n",
    "\t- Tuy đây là một bước cách mạng, nhưng khả năng LLMs bị giới hạn ở dữ liệu huấn luyện.\n",
    "\n",
    "### 3. Architecture\n",
    "\n",
    "<p align=\"center\"><img src=\"./attachments/ToolUsePipe.png\" alt=\"\" width=\"700\"/></p>\n",
    "\n",
    "- Sơ đồ trên thể hiện một mô hình Tool Use, trong đó một hệ thống AI tương tác với nhiều công cụ chuyên dụng để xử lý hiệu quả các truy vấn của người dùng bằng cách truy cập các nguồn thông tin khác nhau.\n",
    "- Cách tiếp cận này là một phần của phương pháp luận đang phát triển trong AI được gọi là Agentic AI, được thiết kế để nâng cao khả năng xử lý các nhiệm vụ phức tạp của AI bằng cách tận dụng các tài nguyên bên ngoài.\n",
    "\n",
    "- **Ý tưởng chính**;\n",
    "\t- Mô-đun hóa các nhiệm vụ:\n",
    "\t\t- Hệ thống chia nhỏ nhiệm vụ - gán nó cho các công cụ khác nhau;\n",
    "\t\t- Đảm bảo tổng hợp hiệu quả và tính mở rộng.\n",
    "\t- Sử dụng các công cụ chuyên dụng cho từng nhiệm vụ riêng biệt.\n",
    "\t- Xử lý tuần tự:\n",
    "\t\t- Chạy các truy vấn tuần tự thông qua các công cụ.\n",
    "\n",
    "### 4. How does an LLM Identify the Need for a Tool?\n",
    "\n",
    "<p align=\"center\"><img src=\"./attachments/Tools.png\" alt=\"\" width=\"500\"/></p>\n",
    "\n",
    "- **Quy trình End-to-End**:\n",
    "\t1. Input: yêu cầu người dùng (ví dụ: \"What is 2 times 3?\")\n",
    "\t2. Interpretation: Xác định nhiệm vụ (Đây là tác vụ tính toán)\n",
    "\t3. Tool Selection: Lựa chọn công cụ (Công cụ nhân)\n",
    "\t4. Payload Creation: Xác định các biến liên quan, chuẩn bị và thực thi trên các công cụ.\n",
    "\t5. Execution: Công cụ thực hiện nhiệm vụ và trả kết quả về cho LLMs."
   ]
  },
  {
   "cell_type": "markdown",
   "metadata": {},
   "source": [
    "## II. Cài đặt minh họa"
   ]
  },
  {
   "cell_type": "markdown",
   "metadata": {
    "vscode": {
     "languageId": "plaintext"
    }
   },
   "source": [
    "**Setup**"
   ]
  },
  {
   "cell_type": "code",
   "execution_count": null,
   "metadata": {},
   "outputs": [],
   "source": [
    "import os\n",
    "import logging\n",
    "from langchain import PromptTemplate, LLMChain\n",
    "from langchain_core.runnables import RunnableSequence\n",
    "from langchain_google_genai import ChatGoogleGenerativeAI\n",
    "from langchain.agents import Tool, initialize_agent\n",
    "from IPython.display import Markdown, display\n",
    "\n",
    "logging.basicConfig(level = logging.INFO)\n",
    "logger = logging.getLogger(__name__)"
   ]
  },
  {
   "cell_type": "code",
   "execution_count": null,
   "metadata": {},
   "outputs": [],
   "source": [
    "    os.environ[\"GOOGLE_API_KEY\"] = input(\"Your Gemini API key: \")\n",
    "\n",
    "    #GeminiAPI\n",
    "    llm = ChatGoogleGenerativeAI(\n",
    "        model       = \"gemini-2.0-flash\",\n",
    "        temperature = 0.55,\n",
    "        max_tokens  = None,\n",
    "        timeout     = None,\n",
    "        max_retries = 2,\n",
    "    )"
   ]
  },
  {
   "cell_type": "markdown",
   "metadata": {},
   "source": [
    "**Tool**"
   ]
  },
  {
   "cell_type": "code",
   "execution_count": null,
   "metadata": {},
   "outputs": [],
   "source": [
    "os.environ[\"GOOGLE_API_KEY\"] = input(\"Your Gemini API key: \")\n",
    "\n",
    "#GeminiAPI\n",
    "llm = ChatGoogleGenerativeAI(\n",
    "    model       = \"gemini-2.0-flash\",\n",
    "    temperature = 0.55,\n",
    "    max_tokens  = None,\n",
    "    timeout     = None,\n",
    "    max_retries = 2,\n",
    ")"
   ]
  },
  {
   "cell_type": "code",
   "execution_count": null,
   "metadata": {},
   "outputs": [],
   "source": [
    "def calculator(input: str) -> str:\n",
    "    try:\n",
    "        allowed = \"0123456789+-*/.() \"\n",
    "        if not all(char in allowed for char in input):\n",
    "            return \"Error\"\n",
    "        \n",
    "        result = eval(input)\n",
    "        return str(result)\n",
    "    except Exception as e:\n",
    "        return f\"Error: {str(e)}\""
   ]
  },
  {
   "cell_type": "code",
   "execution_count": 8,
   "metadata": {},
   "outputs": [],
   "source": [
    "#Package Tool -> Langchain's Tool\n",
    "calc_tool = Tool(\n",
    "    name = \"Calculator\",\n",
    "    func = calculator,\n",
    "    description = (\n",
    "        \"Tool thực hiện các phép tính số học cơ bản (cộng, trừ, nhân, chia). \"\n",
    "        \"Chỉ nhận các biểu thức dạng '2+2', '3 * 4', '10/2', v.v.\"\n",
    "    )\n",
    ")\n",
    "\n",
    "tools = [calc_tool]"
   ]
  },
  {
   "cell_type": "markdown",
   "metadata": {},
   "source": [
    "**Agent**"
   ]
  },
  {
   "cell_type": "code",
   "execution_count": 9,
   "metadata": {},
   "outputs": [],
   "source": [
    "agent = initialize_agent(\n",
    "    tools,\n",
    "    llm,\n",
    "    agent   = \"zero-shot-react-description\",\n",
    "    verbose = True\n",
    ")"
   ]
  },
  {
   "cell_type": "markdown",
   "metadata": {},
   "source": [
    "**Test**"
   ]
  },
  {
   "cell_type": "code",
   "execution_count": 10,
   "metadata": {},
   "outputs": [
    {
     "name": "stdout",
     "output_type": "stream",
     "text": [
      "\n",
      "\n",
      "\u001b[1m> Entering new AgentExecutor chain...\u001b[0m\n",
      "\u001b[32;1m\u001b[1;3mI need to calculate the product of 3, 2, 5, 8, and 9. I can use the calculator to do this.\n",
      "Action: Calculator\n",
      "Action Input: 3*2*5*8*9\u001b[0m\n",
      "Observation: \u001b[36;1m\u001b[1;3m2160\u001b[0m\n",
      "Thought:\u001b[32;1m\u001b[1;3mI now know the final answer.\n",
      "Final Answer: 2160\u001b[0m\n",
      "\n",
      "\u001b[1m> Finished chain.\u001b[0m\n",
      "Kết quả: 2160\n"
     ]
    }
   ],
   "source": [
    "user_input = input(\"Nhập biểu thức số học (ví dụ: 3+5*2): \")\n",
    "\n",
    "result = agent.run(user_input)\n",
    "print(\"Kết quả:\", result)"
   ]
  }
 ],
 "metadata": {
  "kernelspec": {
   "display_name": "base",
   "language": "python",
   "name": "python3"
  },
  "language_info": {
   "codemirror_mode": {
    "name": "ipython",
    "version": 3
   },
   "file_extension": ".py",
   "mimetype": "text/x-python",
   "name": "python",
   "nbconvert_exporter": "python",
   "pygments_lexer": "ipython3",
   "version": "3.12.7"
  }
 },
 "nbformat": 4,
 "nbformat_minor": 2
}

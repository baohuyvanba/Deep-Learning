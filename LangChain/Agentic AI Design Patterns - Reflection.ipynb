{
 "cells": [
  {
   "cell_type": "markdown",
   "metadata": {},
   "source": [
    "# Reflection Pattern - Agentic AI Design Patterns 01"
   ]
  },
  {
   "cell_type": "markdown",
   "metadata": {},
   "source": [
    "## I. Mô Hình Reflection (Phản Xạ)\n",
    "### 1. Định nghĩa\n",
    "- **Reflection** (Phản ánh) là một kỹ thuật trong trí tuệ nhân tạo (AI), đặc biệt áp dụng cho các mô hình ngôn ngữ lớn (Large Language Models - LLM), nhằm cho phép mô hình tự đánh giá và cải thiện đầu ra của chính mình. Đây là một quá trình lặp lại, mô phỏng cách con người suy nghĩ, học hỏi và tinh chỉnh công việc.\n",
    "\n",
    "- Là quá trình bao gồm các bước sau:\n",
    "\t- LLM tạo ra phản hồi cho câu hỏi hoặc nhiệm vụ từ người dùng;\n",
    "\t- LLM tự phản ánh để đánh giá chất lượng, độ chính xác và tính đầy đủ của phản hồi ban đầu;\n",
    "\t- Dựa trên phản ánh đó, LLM tinh chỉnh phản hồi để trả về phiên bản tốt hơn;\n",
    "\t- Quá trình này có thể lặp lại nhiều lần để đạt được kết quả mong muốn.\n",
    "### 2. Tầm Quan Trọng\n",
    "- **Cải thiện chất lượng đầu ra**: Reflection giúp LLM tạo ra câu trả lời chính xác, chi tiết và phù hợp hơn.\n",
    "- **Mô phỏng tư duy con người**: giống cách con người tự đánh giá và cải thiện, làm cho hành vi của AI trở nên trực quan hơn.\n",
    "- **Tăng khả năng thích nghi**: cho phép AI điều chỉnh phản hồi dựa trên bối cảnh hoặc yêu cầu mới."
   ]
  },
  {
   "cell_type": "markdown",
   "metadata": {},
   "source": [
    "## II. Triển khai với LangChain\n",
    "### 1. Các bước triển khai\n",
    "- **LangChain** là một framework mạnh mẽ để phát triển ứng dụng sử dụng LLM.\n",
    "\t1. Khởi tạo mô hình: sử dụng GeminiAPI để minh họa;\n",
    "\t2. Định nghĩa prompt: bao gồm\n",
    "\t\t- `initial_prompt`: Để khởi tạo câu trả lời ban đầu của mô hình;\n",
    "\t\t- `reflection_promp`: Để thực hiện quá trình tinh chỉnh câu trả lời trước đó;\n",
    "\t3. Sử dụng RunnableSequence để liên kết quá trình thực hiện.\n",
    "\t4. Thực thi."
   ]
  },
  {
   "cell_type": "markdown",
   "metadata": {},
   "source": [
    "### 2. Minh họa"
   ]
  },
  {
   "cell_type": "code",
   "execution_count": 1,
   "metadata": {},
   "outputs": [],
   "source": [
    "import os\n",
    "\n",
    "from langchain import PromptTemplate\n",
    "from langchain_core.runnables import RunnableSequence\n",
    "from langchain_google_genai import ChatGoogleGenerativeAI"
   ]
  },
  {
   "cell_type": "code",
   "execution_count": 2,
   "metadata": {},
   "outputs": [],
   "source": [
    "os.environ[\"GOOGLE_API_KEY\"] = input(\"Your Gemini API key: \")\n",
    "\n",
    "llm = ChatGoogleGenerativeAI(\n",
    "    model       = \"gemini-2.0-flash\",\n",
    "    temperature = 0.55,\n",
    "    max_tokens  = None,\n",
    "    timeout     = None,\n",
    "    max_retries = 2,\n",
    ")"
   ]
  },
  {
   "cell_type": "code",
   "execution_count": 3,
   "metadata": {},
   "outputs": [],
   "source": [
    "#Initial Prompt\n",
    "initial_prompt = PromptTemplate(\n",
    "    input_variables = [\"question\"],\n",
    "    template        = \"Answer the following question: {question}\"\n",
    ")"
   ]
  },
  {
   "cell_type": "code",
   "execution_count": 4,
   "metadata": {},
   "outputs": [],
   "source": [
    "#Reflection Prompt\n",
    "reflection_prompt = PromptTemplate(\n",
    "    input_variables = [\"initial_answer\"],\n",
    "    template        = \"Review, improve the following answer and give me the final answer: {initial_answer}\"\n",
    ")"
   ]
  },
  {
   "cell_type": "code",
   "execution_count": 5,
   "metadata": {},
   "outputs": [],
   "source": [
    "#Initial Chain\n",
    "initial_chain = RunnableSequence(initial_prompt | llm)\n",
    "\n",
    "#Reflect anfd Tune Chain\n",
    "reflection_chain = RunnableSequence(reflection_prompt | llm)\n",
    "\n",
    "#PIPELINE\n",
    "def run_reflection_pipeline(input_dict):\n",
    "    #Step 1: Create initial answer\n",
    "    initial_answer = initial_chain.invoke({\"question\": input_dict[\"question\"]})\n",
    "    #Step 2: Reflect and Tune\n",
    "    final_answer = reflection_chain.invoke({\"initial_answer\": initial_answer})\n",
    "    return {\"text\": final_answer}"
   ]
  },
  {
   "cell_type": "code",
   "execution_count": 6,
   "metadata": {},
   "outputs": [
    {
     "name": "stdout",
     "output_type": "stream",
     "text": [
      "content='The provided answer is already quite good. It\\'s clear, concise, and accurate. Here are a few minor improvements for clarity and flow:\\n\\n**Final Answer:**\\n\\n\"The primary cause of most ocean waves is **wind**.\\n\\nHere\\'s how it works:\\n\\n*   **Energy Transfer:** Wind blowing across the ocean surface transfers energy to the water through friction. This friction causes the water to move, initially forming small ripples.\\n\\n*   **Wave Development:** As the wind continues to blow, these ripples grow into larger waves. The size of these waves depends on three key factors:\\n\\n    *   **Wind Speed:** Stronger winds generate larger waves.\\n    *   **Wind Duration:** The longer the wind blows consistently, the larger the waves can become.\\n    *   **Fetch:** The distance over which the wind blows across open water without significant change in direction or obstruction is known as the fetch. A longer fetch allows for the development of larger, more powerful waves.\\n\\nWhile wind is the most common cause, other phenomena can also create waves:\\n\\n*   **Seismic Activity:** Earthquakes and underwater landslides can displace massive amounts of water, generating tsunamis (also known as seismic sea waves).\\n\\n*   **Volcanic Activity:** Underwater volcanic eruptions can similarly trigger tsunamis.\\n\\n*   **Gravitational Forces:** The gravitational pull of the moon and sun primarily causes tides, but it also subtly influences ocean wave patterns.\\n\\n*   **Vessel Wakes:** The movement of boats and ships creates wakes, which are a form of wave.\\n\\nIn conclusion, although various factors can generate ocean waves, **wind is the most prevalent and significant cause for the waves we typically observe.**\"\\n\\n**Changes Made and Why:**\\n\\n*   **\"Wind Transferring Energy\" changed to \"Energy Transfer\":** Slightly more concise and focuses on the core concept.\\n*   **\"Ripple Growth\" changed to \"Wave Development\":** A more encompassing term.\\n*   **Clarified \"Fetch\" definition:** Added \"without significant change in direction or obstruction\" to more accurately define fetch.\\n*   **\"Earthquakes and Underwater Landslides\" changed to \"Seismic Activity\":** More concise and accurate umbrella term.  Added \"(also known as seismic sea waves)\" to clarify the term tsunami.\\n*   **\"Volcanic Eruptions\" changed to \"Volcanic Activity\":** More concise.\\n*   **\"Gravitational Pull of the Moon and Sun\" changed to \"Gravitational Forces\":** More concise.\\n*   **Minor wording adjustments:** Improved flow and readability.\\n*   **Added \"the waves we typically observe\" to the conclusion:** This clarifies that we\\'re primarily talking about everyday waves, not just tsunamis.' additional_kwargs={} response_metadata={'prompt_feedback': {'block_reason': 0, 'safety_ratings': []}, 'finish_reason': 'STOP', 'safety_ratings': []} id='run-f552d256-9cf5-4994-b773-2cb0b3693255-0' usage_metadata={'input_tokens': 447, 'output_tokens': 564, 'total_tokens': 1011, 'input_token_details': {'cache_read': 0}}\n"
     ]
    }
   ],
   "source": [
    "question = \"What causes ocean waves?\"\n",
    "\n",
    "#RUN\n",
    "result = run_reflection_pipeline({\"question\": question})\n",
    "print(result[\"text\"])"
   ]
  },
  {
   "cell_type": "code",
   "execution_count": 7,
   "metadata": {},
   "outputs": [
    {
     "data": {
      "text/markdown": [
       "The provided answer is already quite good. It's clear, concise, and accurate. Here are a few minor improvements for clarity and flow:\n",
       "\n",
       "**Final Answer:**\n",
       "\n",
       "\"The primary cause of most ocean waves is **wind**.\n",
       "\n",
       "Here's how it works:\n",
       "\n",
       "*   **Energy Transfer:** Wind blowing across the ocean surface transfers energy to the water through friction. This friction causes the water to move, initially forming small ripples.\n",
       "\n",
       "*   **Wave Development:** As the wind continues to blow, these ripples grow into larger waves. The size of these waves depends on three key factors:\n",
       "\n",
       "    *   **Wind Speed:** Stronger winds generate larger waves.\n",
       "    *   **Wind Duration:** The longer the wind blows consistently, the larger the waves can become.\n",
       "    *   **Fetch:** The distance over which the wind blows across open water without significant change in direction or obstruction is known as the fetch. A longer fetch allows for the development of larger, more powerful waves.\n",
       "\n",
       "While wind is the most common cause, other phenomena can also create waves:\n",
       "\n",
       "*   **Seismic Activity:** Earthquakes and underwater landslides can displace massive amounts of water, generating tsunamis (also known as seismic sea waves).\n",
       "\n",
       "*   **Volcanic Activity:** Underwater volcanic eruptions can similarly trigger tsunamis.\n",
       "\n",
       "*   **Gravitational Forces:** The gravitational pull of the moon and sun primarily causes tides, but it also subtly influences ocean wave patterns.\n",
       "\n",
       "*   **Vessel Wakes:** The movement of boats and ships creates wakes, which are a form of wave.\n",
       "\n",
       "In conclusion, although various factors can generate ocean waves, **wind is the most prevalent and significant cause for the waves we typically observe.**\"\n",
       "\n",
       "**Changes Made and Why:**\n",
       "\n",
       "*   **\"Wind Transferring Energy\" changed to \"Energy Transfer\":** Slightly more concise and focuses on the core concept.\n",
       "*   **\"Ripple Growth\" changed to \"Wave Development\":** A more encompassing term.\n",
       "*   **Clarified \"Fetch\" definition:** Added \"without significant change in direction or obstruction\" to more accurately define fetch.\n",
       "*   **\"Earthquakes and Underwater Landslides\" changed to \"Seismic Activity\":** More concise and accurate umbrella term.  Added \"(also known as seismic sea waves)\" to clarify the term tsunami.\n",
       "*   **\"Volcanic Eruptions\" changed to \"Volcanic Activity\":** More concise.\n",
       "*   **\"Gravitational Pull of the Moon and Sun\" changed to \"Gravitational Forces\":** More concise.\n",
       "*   **Minor wording adjustments:** Improved flow and readability.\n",
       "*   **Added \"the waves we typically observe\" to the conclusion:** This clarifies that we're primarily talking about everyday waves, not just tsunamis."
      ],
      "text/plain": [
       "<IPython.core.display.Markdown object>"
      ]
     },
     "metadata": {},
     "output_type": "display_data"
    }
   ],
   "source": [
    "from IPython.display import Markdown, display\n",
    "\n",
    "content = result[\"text\"].content\n",
    "display(Markdown(content))"
   ]
  },
  {
   "cell_type": "markdown",
   "metadata": {},
   "source": [
    "****"
   ]
  }
 ],
 "metadata": {
  "kernelspec": {
   "display_name": "base",
   "language": "python",
   "name": "python3"
  },
  "language_info": {
   "codemirror_mode": {
    "name": "ipython",
    "version": 3
   },
   "file_extension": ".py",
   "mimetype": "text/x-python",
   "name": "python",
   "nbconvert_exporter": "python",
   "pygments_lexer": "ipython3",
   "version": "3.12.7"
  }
 },
 "nbformat": 4,
 "nbformat_minor": 2
}

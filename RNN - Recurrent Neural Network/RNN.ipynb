{
 "cells": [
  {
   "cell_type": "markdown",
   "id": "acbc72f5",
   "metadata": {},
   "source": [
    "# Recurrent Neural Network (RNN)\n",
    "****"
   ]
  },
  {
   "cell_type": "code",
   "execution_count": 1,
   "id": "6ca95b25",
   "metadata": {},
   "outputs": [],
   "source": [
    "import torch\n",
    "import torch.nn as nn\n",
    "import torch.optim as optim\n",
    "import numpy as np\n",
    "import matplotlib.pyplot as plt"
   ]
  },
  {
   "cell_type": "markdown",
   "id": "219874c7",
   "metadata": {
    "vscode": {
     "languageId": "plaintext"
    }
   },
   "source": [
    "## I. Vanilla RNN"
   ]
  },
  {
   "cell_type": "markdown",
   "id": "5d082454",
   "metadata": {},
   "source": [
    "<div align=\"center\">\n",
    "    <img src=\"./attachments/ArchComponent.png\" width=\"800\"/>\n",
    "</div>"
   ]
  },
  {
   "cell_type": "markdown",
   "id": "b83af0fd",
   "metadata": {},
   "source": [
    "### 1. Build RNN Cell\n",
    "Implements the computation for a single time step.\n",
    "- $a^{<t>} = f(W_{aa} \\cdot a^{<t-1>} + W_{ax} \\cdot x^{<t>} + b_a)$"
   ]
  },
  {
   "cell_type": "code",
   "execution_count": 39,
   "id": "2fe21c33",
   "metadata": {},
   "outputs": [],
   "source": [
    "class RNNCell(nn.Module):\n",
    "    def __init__(self, input_size, hidden_size, activation_fn = \"tanh\"):\n",
    "        super(RNNCell, self).__init__()\n",
    "        self.input_size  = input_size  #Vocab size\n",
    "        self.hidden_size = hidden_size\n",
    "        \n",
    "        #W_ax*x^<t>  : input-to-hidden weights\n",
    "        self.linear_ax = nn.Linear(input_size, hidden_size)\n",
    "        #W_aa*a^<t-1>: statestate-to-hidden weights\n",
    "        self.linear_aa = nn.Linear(hidden_size, hidden_size, bias = True) #Include bias b_a\n",
    "        \n",
    "        #Activation function\n",
    "        if activation_fn.lower() == \"tanh\":\n",
    "            self.activation = nn.Tanh()\n",
    "        elif activation_fn.lower() == \"relu\":\n",
    "            self.activation = nn.ReLU()\n",
    "        else:\n",
    "            raise ValueError(\"Unsupported Activation Function\")\n",
    "        \n",
    "    def forward(self, x, a_prev):\n",
    "        #x     : input at t (batch_size, input_size)\n",
    "        #a_prev: previous state (batch_size, hidden_size)\n",
    "        input_transformed  = self.linear_ax(x)\n",
    "        hidden_transformed = self.linear_aa(a_prev)\n",
    "        z = input_transformed + hidden_transformed\n",
    "        a = self.activation(z) #a^t\n",
    "        return a"
   ]
  },
  {
   "cell_type": "markdown",
   "id": "86634428",
   "metadata": {},
   "source": [
    "## 2. Build VanillaRNN (RNN through many time steps)"
   ]
  },
  {
   "cell_type": "code",
   "execution_count": 50,
   "id": "b9954888",
   "metadata": {},
   "outputs": [],
   "source": [
    "class VanillaRNN(nn.Module):\n",
    "    def __init__(self, input_size, hidden_size, output_size, activation_fn = \"tanh\", output_activation_fn = \"softmax\"):\n",
    "        super(VanillaRNN, self).__init__()\n",
    "        self.hidden_size = hidden_size\n",
    "        self.output_size = output_size #y^t\n",
    "\n",
    "        #Init RNN Cell\n",
    "        self.rnn_cell = RNNCell(input_size, hidden_size, activation_fn)\n",
    "\n",
    "        #W_ya: hidden-to-output weight\n",
    "        self.linear_ya = nn.Linear(hidden_size, output_size) #Included b_y\n",
    "\n",
    "        #Output Activation Function\n",
    "        if output_activation_fn.lower() == \"softmax\":\n",
    "            self.output_activation = nn.Softmax(dim = -1)  #Multi-class\n",
    "        elif output_activation_fn.lower() == \"sigmoid\":\n",
    "            self.output_activation = nn.Sigmoid()          #Binary-class\n",
    "        elif output_activation_fn.lower() == \"none\":\n",
    "            self.output_activation = None                  #No Activation function (Recursive)\n",
    "        else:\n",
    "            print(f\"Warning: output_activation_fn '{output_activation_fn}' not explicitly handled for output_size {output_size}. No output activation will be used.\")\n",
    "            self.output_activation = None\n",
    "    \n",
    "    #Forward pass: whole sequences\n",
    "    def forward(self, sequence, a_0 = None):\n",
    "        batch_size, sequence_length, _ = sequence.shape\n",
    "\n",
    "        #Init first hidden state\n",
    "        if a_0 is None:\n",
    "            a_prev = torch.zeros(batch_size, self.hidden_size, device = sequence.device)\n",
    "        else:\n",
    "            a_prev = a_0\n",
    "\n",
    "        #Save output & hidden states each time step\n",
    "        output_list = []\n",
    "        states_list = []\n",
    "\n",
    "        #Loop through time steps\n",
    "        for t in range(sequence_length):\n",
    "            x_t = sequence[:, t, :]             # Input at t\n",
    "            a_t = self.rnn_cell(x_t, a_prev)    # Next hidden state / hidden state at t\n",
    "            \n",
    "            #Predict output y_hat^t\n",
    "            z_t = self.linear_ya(a_t)\n",
    "            #Activation\n",
    "            if self.output_activation is not None:\n",
    "                y_hat = self.output_activation(z_t)\n",
    "            else:\n",
    "                y_hat = z_t\n",
    "            \n",
    "            #Saving result\n",
    "            output_list.append(y_hat)\n",
    "            states_list.append(a_t)\n",
    "\n",
    "            #Update a_prev\n",
    "            a_prev = a_t\n",
    "\n",
    "        #Stacking tensor\n",
    "        hiddens = torch.stack(states_list, dim = 1)\n",
    "        outputs = torch.stack(output_list, dim = 1)\n",
    "\n",
    "        return hiddens, outputs"
   ]
  },
  {
   "cell_type": "markdown",
   "id": "f4b8a67d",
   "metadata": {},
   "source": [
    "## 3. Demo"
   ]
  },
  {
   "cell_type": "markdown",
   "id": "d06acd3e",
   "metadata": {},
   "source": [
    "### 3.1 Data Preparation"
   ]
  },
  {
   "cell_type": "code",
   "execution_count": 66,
   "id": "4feb958f",
   "metadata": {},
   "outputs": [
    {
     "name": "stdout",
     "output_type": "stream",
     "text": [
      "Original text: 'Reuters is a news agency owned by Thomson Reuters. It employs around 2,500 journalists and 600 photojournalists in about 200 locations worldwide writing in 16 languages. Reuters is one of the largest news agencies in the world. The agency was established in London in 1851 by Paul Reuter.'\n",
      "Unique characters (vocabulary): [' ', ',', '.', '0', '1', '2', '5', '6', '8', 'I', 'L', 'P', 'R', 'T', 'a', 'b', 'c', 'd', 'e', 'f', 'g', 'h', 'i', 'j', 'l', 'm', 'n', 'o', 'p', 'r', 's', 't', 'u', 'w', 'y']\n",
      "Character to integer mapping: {' ': 0, ',': 1, '.': 2, '0': 3, '1': 4, '2': 5, '5': 6, '6': 7, '8': 8, 'I': 9, 'L': 10, 'P': 11, 'R': 12, 'T': 13, 'a': 14, 'b': 15, 'c': 16, 'd': 17, 'e': 18, 'f': 19, 'g': 20, 'h': 21, 'i': 22, 'j': 23, 'l': 24, 'm': 25, 'n': 26, 'o': 27, 'p': 28, 'r': 29, 's': 30, 't': 31, 'u': 32, 'w': 33, 'y': 34}\n",
      "Vocabulary size: 35\n"
     ]
    }
   ],
   "source": [
    "test_text = \"Reuters is a news agency owned by Thomson Reuters. It employs around 2,500 journalists and 600 photojournalists in about 200 locations worldwide writing in 16 languages. Reuters is one of the largest news agencies in the world. The agency was established in London in 1851 by Paul Reuter.\"\n",
    "\n",
    "chars = sorted(list(set(test_text)))\n",
    "char_int_map = {char: i for i, char in enumerate(chars)}\n",
    "int_char_map = {i: char for i, char in enumerate(chars)}\n",
    "\n",
    "vocab_size = len(chars) # Vocabulary size (number of unique characters)\n",
    "print(f\"Original text: '{test_text}'\")\n",
    "print(f\"Unique characters (vocabulary): {chars}\")\n",
    "print(f\"Character to integer mapping: {char_int_map}\")\n",
    "print(f\"Vocabulary size: {vocab_size}\")"
   ]
  },
  {
   "cell_type": "code",
   "execution_count": 52,
   "id": "9088a84a",
   "metadata": {},
   "outputs": [
    {
     "name": "stdout",
     "output_type": "stream",
     "text": [
      "By characters, input sequence:  ['H', 'e', 'l', 'l', 'o', ' ', 'W', 'o', 'r', 'l']\n",
      "By characters, target sequence:  ['e', 'l', 'l', 'o', ' ', 'W', 'o', 'r', 'l', 'd']\n"
     ]
    }
   ],
   "source": [
    "input_sequence  = []\n",
    "target_sequence = []\n",
    "\n",
    "for i in range(len(test_text) - 1):\n",
    "    input_sequence.append(test_text[i])\n",
    "    target_sequence.append(test_text[i+1])\n",
    "\n",
    "input_sequence_int  = [char_int_map[char] for char in input_sequence]\n",
    "target_sequence_int = [char_int_map[char] for char in target_sequence]\n",
    "\n",
    "print(\"By characters, input sequence: \", input_sequence)\n",
    "print(\"By characters, target sequence: \", target_sequence) "
   ]
  },
  {
   "cell_type": "code",
   "execution_count": 53,
   "id": "e7278cf2",
   "metadata": {},
   "outputs": [],
   "source": [
    "def onehot_encode(sequence, vocab_size):\n",
    "    encoded = np.zeros((len(sequence), vocab_size), dtype = np.float32)\n",
    "    for i, value in enumerate(sequence):\n",
    "        encoded[i, value] = 1\n",
    "    return encoded"
   ]
  },
  {
   "cell_type": "code",
   "execution_count": 54,
   "id": "a03f355d",
   "metadata": {},
   "outputs": [
    {
     "name": "stdout",
     "output_type": "stream",
     "text": [
      "Shape of one hot input: (10, 8)\n"
     ]
    }
   ],
   "source": [
    "input_sequence_onehot = onehot_encode(input_sequence_int, vocab_size)\n",
    "print(\"Shape of one hot input:\", input_sequence_onehot.shape)"
   ]
  },
  {
   "cell_type": "code",
   "execution_count": 55,
   "id": "28a59952",
   "metadata": {},
   "outputs": [
    {
     "name": "stdout",
     "output_type": "stream",
     "text": [
      "\n",
      "X_train tensor:\n",
      " tensor([[[0., 1., 0., 0., 0., 0., 0., 0.],\n",
      "         [0., 0., 0., 0., 1., 0., 0., 0.],\n",
      "         [0., 0., 0., 0., 0., 1., 0., 0.],\n",
      "         [0., 0., 0., 0., 0., 1., 0., 0.],\n",
      "         [0., 0., 0., 0., 0., 0., 1., 0.],\n",
      "         [1., 0., 0., 0., 0., 0., 0., 0.],\n",
      "         [0., 0., 1., 0., 0., 0., 0., 0.],\n",
      "         [0., 0., 0., 0., 0., 0., 1., 0.],\n",
      "         [0., 0., 0., 0., 0., 0., 0., 1.],\n",
      "         [0., 0., 0., 0., 0., 1., 0., 0.]]])\n",
      "Shape of X_train: torch.Size([1, 10, 8])\n",
      "\n",
      "y_target tensor:\n",
      " tensor([[4, 5, 5, 6, 0, 2, 6, 7, 5, 3]])\n",
      "Shape of y_target: torch.Size([1, 10])\n"
     ]
    }
   ],
   "source": [
    "X_train  = torch.tensor(input_sequence_onehot).unsqueeze(0) # Add batch_size dimension, batch_size = 1\n",
    "y_target = torch.tensor(target_sequence_int).unsqueeze(0)\n",
    "\n",
    "print(\"\\nX_train tensor:\\n\", X_train)\n",
    "print(\"Shape of X_train:\", X_train.shape) # torch.Size([1, 4, 4])\n",
    "print(\"\\ny_target tensor:\\n\", y_target)\n",
    "print(\"Shape of y_target:\", y_target.shape) # torch.Size([1, 4])"
   ]
  },
  {
   "cell_type": "markdown",
   "id": "e96247ff",
   "metadata": {},
   "source": [
    "## 3.2 Model Initilize"
   ]
  },
  {
   "cell_type": "code",
   "execution_count": 56,
   "id": "84c0dcbc",
   "metadata": {},
   "outputs": [],
   "source": [
    "input_dim = vocab_size\n",
    "hidden_dim = 16         #Size ~ Learning Better\n",
    "output_dim = vocab_size"
   ]
  },
  {
   "cell_type": "code",
   "execution_count": 57,
   "id": "7e2e2f4f",
   "metadata": {},
   "outputs": [
    {
     "name": "stdout",
     "output_type": "stream",
     "text": [
      "RNN Model:\n",
      "VanillaRNN(\n",
      "  (rnn_cell): RNNCell(\n",
      "    (linear_ax): Linear(in_features=8, out_features=16, bias=True)\n",
      "    (linear_aa): Linear(in_features=16, out_features=16, bias=True)\n",
      "    (activation): Tanh()\n",
      "  )\n",
      "  (linear_ya): Linear(in_features=16, out_features=8, bias=True)\n",
      ")\n"
     ]
    }
   ],
   "source": [
    "model = VanillaRNN(input_size    = input_dim,\n",
    "                   hidden_size   = hidden_dim,\n",
    "                   output_size   = output_dim,\n",
    "                   activation_fn = \"tanh\",\n",
    "                   output_activation_fn = \"none\")\n",
    "\n",
    "print(\"RNN Model:\")\n",
    "print(model)"
   ]
  },
  {
   "cell_type": "markdown",
   "id": "dee94500",
   "metadata": {},
   "source": [
    "### 3.3 Train"
   ]
  },
  {
   "cell_type": "code",
   "execution_count": 58,
   "id": "cc791ef2",
   "metadata": {},
   "outputs": [
    {
     "name": "stdout",
     "output_type": "stream",
     "text": [
      "\n",
      "--- Training Information ---\n",
      "Criterion:  CrossEntropyLoss()\n",
      "Optimizer:  Adam (\n",
      "Parameter Group 0\n",
      "    amsgrad: False\n",
      "    betas: (0.9, 0.999)\n",
      "    capturable: False\n",
      "    differentiable: False\n",
      "    eps: 1e-08\n",
      "    foreach: None\n",
      "    fused: None\n",
      "    lr: 0.01\n",
      "    maximize: False\n",
      "    weight_decay: 0\n",
      ")\n"
     ]
    }
   ],
   "source": [
    "criterion = nn.CrossEntropyLoss()\n",
    "\n",
    "learning_rate = 0.01\n",
    "optimizer = optim.Adam(model.parameters(), lr = learning_rate)\n",
    "\n",
    "print(\"\\n--- Training Information ---\")\n",
    "print(\"Criterion: \", criterion)\n",
    "print(\"Optimizer: \", optimizer)"
   ]
  },
  {
   "cell_type": "code",
   "execution_count": 60,
   "id": "467322f5",
   "metadata": {},
   "outputs": [
    {
     "name": "stdout",
     "output_type": "stream",
     "text": [
      "\n",
      "--- TRAINING ---\n",
      "Epoch [50/500], Loss: 0.0717\n",
      "Epoch [100/500], Loss: 0.0130\n",
      "Epoch [150/500], Loss: 0.0070\n",
      "Epoch [200/500], Loss: 0.0046\n",
      "Epoch [250/500], Loss: 0.0033\n",
      "Epoch [300/500], Loss: 0.0025\n",
      "Epoch [350/500], Loss: 0.0020\n",
      "Epoch [400/500], Loss: 0.0016\n",
      "Epoch [450/500], Loss: 0.0013\n",
      "Epoch [500/500], Loss: 0.0011\n",
      "--- COMPLETE ---\n"
     ]
    },
    {
     "data": {
      "image/png": "[encoded data removed]",
      "text/plain": [
       "<Figure size 1000x500 with 1 Axes>"
      ]
     },
     "metadata": {},
     "output_type": "display_data"
    }
   ],
   "source": [
    "num_epochs = 500\n",
    "losses     = []\n",
    "\n",
    "print(\"\\n--- TRAINING ---\")\n",
    "for epoch in range(num_epochs):\n",
    "    optimizer.zero_grad()\n",
    "\n",
    "    # Forward pass\n",
    "    _, y_hat_logits_sequence = model(X_train) # Shape: (batch_size, sequence_length, vocab_size)\n",
    "\n",
    "    # Chuẩn bị đầu ra model và target cho CrossEntropyLoss\n",
    "    # Đầu ra model cần có shape (N, C) hoặc (N, C, d1, d2, ...)\n",
    "    # Target cần có shape (N) hoặc (N, d1, d2, ...)\n",
    "    # N ở đây là tổng số điểm dữ liệu để tính loss, C là số lớp.\n",
    "    # Ta sẽ coi mỗi ký tự trong chuỗi là một điểm dữ liệu riêng.\n",
    "    # Reshape y_hat_logits_sequence từ (batch, seq, classes) -> (batch*seq, classes)\n",
    "    # Reshape y_target từ (batch, seq) -> (batch*seq)\n",
    "    loss = criterion(y_hat_logits_sequence.view(-1, vocab_size), y_target.view(-1))\n",
    "\n",
    "    # Backward pass (BPTT)\n",
    "    loss.backward()\n",
    "\n",
    "    # Update Weights\n",
    "    optimizer.step()\n",
    "\n",
    "    losses.append(loss.item())\n",
    "\n",
    "    if (epoch + 1) % 50 == 0:\n",
    "        print(f'Epoch [{epoch+1}/{num_epochs}], Loss: {loss.item():.4f}')\n",
    "\n",
    "print(\"--- COMPLETE ---\")\n",
    "\n",
    "# Loss\n",
    "plt.figure(figsize = (10,5))\n",
    "plt.plot(losses)\n",
    "plt.title(\"Training Loss over Epochs\")\n",
    "plt.xlabel(\"Epoch\")\n",
    "plt.ylabel(\"CrossEntropyLoss\")\n",
    "plt.show()"
   ]
  },
  {
   "cell_type": "markdown",
   "id": "94b30dde",
   "metadata": {},
   "source": [
    "### 3.4 Eval"
   ]
  },
  {
   "cell_type": "code",
   "execution_count": 64,
   "id": "4d1919c8",
   "metadata": {},
   "outputs": [
    {
     "name": "stdout",
     "output_type": "stream",
     "text": [
      "\n",
      "--- Kết quả Sau Huấn luyện ---\n",
      "Đầu vào (ký tự):          ['H', 'e', 'l', 'l', 'o', ' ', 'W', 'o', 'r', 'l']\n",
      "Mục tiêu (ký tự tiếp theo): ['e', 'l', 'l', 'o', ' ', 'W', 'o', 'r', 'l', 'd']\n",
      "Dự đoán (ký tự tiếp theo): ['e', 'l', 'l', 'o', ' ', 'W', 'o', 'r', 'l', 'd']\n",
      "\n",
      "--- Thử sinh văn bản từ một ký tự đầu vào ---\n",
      "Ký tự bắt đầu: 'H'\n",
      "Văn bản được sinh ra: 'Hello World'\n",
      "Tuyệt vời! Mô hình đã học được chuỗi một cách chính xác.\n"
     ]
    }
   ],
   "source": [
    "# --- Kiểm tra kết quả sau huấn luyện và dự đoán ---\n",
    "model.eval() # Chuyển mô hình sang chế độ đánh giá (quan trọng nếu có Dropout, BatchNorm)\n",
    "with torch.no_grad(): # Không cần tính gradient khi dự đoán\n",
    "    _, y_predicted_logits_sequence = model(X_train) # Shape: (batch_size, sequence_length, vocab_size)\n",
    "\n",
    "    # Lấy xác suất bằng cách áp dụng softmax (chỉ để hiển thị, không cần cho CrossEntropyLoss)\n",
    "    y_predicted_probs_sequence = torch.softmax(y_predicted_logits_sequence, dim=2)\n",
    "    # Lấy ký tự dự đoán bằng cách chọn index có xác suất cao nhất\n",
    "    _, predicted_indices_sequence = torch.max(y_predicted_probs_sequence, dim=2) # Shape: (batch_size, sequence_length)\n",
    "\n",
    "    # Chuyển đổi indices dự đoán về lại ký tự\n",
    "    predicted_chars_sequence = []\n",
    "    for batch_idx in range(predicted_indices_sequence.shape[0]): # Lặp qua batch (chỉ có 1 batch ở đây)\n",
    "        batch_chars = [int_char_map[idx.item()] for idx in predicted_indices_sequence[batch_idx]]\n",
    "        predicted_chars_sequence.append(batch_chars)\n",
    "\n",
    "\n",
    "    print(\"\\n--- Kết quả Sau Huấn luyện ---\")\n",
    "    print(f\"Đầu vào (ký tự):          {input_sequence}\")\n",
    "    print(f\"Mục tiêu (ký tự tiếp theo): {target_sequence}\")\n",
    "    print(f\"Dự đoán (ký tự tiếp theo): {predicted_chars_sequence[0]}\") # Lấy batch đầu tiên\n",
    "\n",
    "    # --- Thử dự đoán một chuỗi mới hoặc sinh văn bản từng ký tự ---\n",
    "    print(\"\\n--- Thử sinh văn bản từ một ký tự đầu vào ---\")\n",
    "    start_char = \"H\"\n",
    "    num_to_generate = len(test_text) -1 # Sinh ra đủ số ký tự như mục tiêu\n",
    "    generated_text = start_char\n",
    "\n",
    "    current_input_char = start_char\n",
    "    # Khởi tạo trạng thái ẩn ban đầu cho việc sinh văn bản\n",
    "    a_prev_generate = torch.zeros(1, hidden_dim, device=X_train.device) # batch_size = 1\n",
    "\n",
    "    for _ in range(num_to_generate):\n",
    "        # Chuẩn bị đầu vào hiện tại\n",
    "        current_input_int = char_int_map[current_input_char]\n",
    "        current_input_one_hot = onehot_encode([current_input_int], vocab_size)\n",
    "        x_t_generate = torch.tensor(current_input_one_hot).unsqueeze(0).to(X_train.device) # (1, 1, vocab_size)\n",
    "\n",
    "        # Chỉ cần forward 1 bước thời gian để lấy trạng thái ẩn tiếp theo và dự đoán\n",
    "        # Ta cần viết lại logic forward cho từng bước một nếu muốn hiệu quả\n",
    "        # Hoặc, ta có thể dùng lại model.rnn_cell và model.W_ya trực tiếp\n",
    "        a_next_generate = model.rnn_cell(x_t_generate.squeeze(1), a_prev_generate) # x_t (batch, input), a_prev (batch, hidden)\n",
    "        logits_next_char = model.linear_ya(a_next_generate) # (batch, output_size)\n",
    "        # Lấy ký tự dự đoán\n",
    "        probs_next_char = torch.softmax(logits_next_char, dim=1)\n",
    "        _, predicted_index = torch.max(probs_next_char, dim=1)\n",
    "        predicted_char = int_char_map[predicted_index.item()]\n",
    "\n",
    "        generated_text += predicted_char\n",
    "        current_input_char = predicted_char # Ký tự dự đoán trở thành đầu vào cho bước tiếp theo\n",
    "        a_prev_generate = a_next_generate # Cập nhật trạng thái ẩn\n",
    "\n",
    "    print(f\"Ký tự bắt đầu: '{start_char}'\")\n",
    "    print(f\"Văn bản được sinh ra: '{generated_text}'\")\n",
    "    if generated_text == test_text:\n",
    "        print(\"Tuyệt vời! Mô hình đã học được chuỗi một cách chính xác.\")\n",
    "    else:\n",
    "        print(\"Mô hình chưa học hoàn hảo, hãy thử tăng số epoch hoặc điều chỉnh hidden_dim.\")"
   ]
  },
  {
   "cell_type": "code",
   "execution_count": null,
   "id": "5a50fa86",
   "metadata": {},
   "outputs": [],
   "source": []
  }
 ],
 "metadata": {
  "kernelspec": {
   "display_name": "base",
   "language": "python",
   "name": "python3"
  },
  "language_info": {
   "codemirror_mode": {
    "name": "ipython",
    "version": 3
   },
   "file_extension": ".py",
   "mimetype": "text/x-python",
   "name": "python",
   "nbconvert_exporter": "python",
   "pygments_lexer": "ipython3",
   "version": "3.12.7"
  }
 },
 "nbformat": 4,
 "nbformat_minor": 5
}
